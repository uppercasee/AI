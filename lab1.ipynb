{
 "cells": [
  {
   "cell_type": "markdown",
   "metadata": {},
   "source": [
    "## Question for python:\n",
    "\n",
    "- Write a program to find prime number with in a range using function.\n",
    "- Write a program to check palindrome.\n",
    "- Write a program to generate the Fibonacci sequence of a given number.\n",
    "- Create a number guessing game. Where you have to generate a random number in between 1 to 100 and user have to prompt a number for guess. if its high or low number let the user know and guide them through the process to guess correct number.\n",
    "\n",
    "## Requirements :\n",
    "\n",
    "- strict evaluation and code review will be done.\n",
    "- push your code in GitHub and submit your repo link\n",
    "- code must be written in Jupiter Notebook and must include output"
   ]
  },
  {
   "cell_type": "markdown",
   "metadata": {},
   "source": [
    "Q1. Write a program to find prime number with in a range using function."
   ]
  },
  {
   "cell_type": "code",
   "execution_count": 2,
   "metadata": {},
   "outputs": [
    {
     "name": "stdout",
     "output_type": "stream",
     "text": [
      "13 is a prime number\n"
     ]
    }
   ],
   "source": [
    "# Write a program to find prime number with in a range using function.\n",
    "\n",
    "def prime(n):\n",
    "    if n > 1:\n",
    "        for i in range(2, n):\n",
    "            if n % i == 0:\n",
    "                print(n, \"is not a prime number\")\n",
    "                break\n",
    "        else:\n",
    "            print(n, \"is a prime number\")\n",
    "    else:\n",
    "        print(n, \"is not a prime number\")\n",
    "\n",
    "n = int(input(\"Enter a number: \"))\n",
    "prime(n)"
   ]
  },
  {
   "cell_type": "code",
   "execution_count": null,
   "metadata": {},
   "outputs": [],
   "source": [
    "# Write a program to check palindrome.\n",
    "\n",
    "def palindrome(n):\n",
    "    if n == n[::-1]:\n",
    "        print(\"The string is a palindrome\")\n",
    "    else:\n",
    "        print(\"The string is not a palindrome\")\n",
    "\n",
    "n = input(\"Enter a string: \")\n",
    "palindrome(n)"
   ]
  },
  {
   "cell_type": "code",
   "execution_count": 4,
   "metadata": {},
   "outputs": [
    {
     "data": {
      "text/plain": [
       "2"
      ]
     },
     "execution_count": 4,
     "metadata": {},
     "output_type": "execute_result"
    }
   ],
   "source": [
    "# Write a program to generate the Fibonacci sequence of a given number using recursion.\n",
    "\n",
    "def fibonacci(n):\n",
    "    if n <= 1:\n",
    "        return n\n",
    "    else:\n",
    "        return fibonacci(n-1) + fibonacci(n-2)\n",
    "\n",
    "\n",
    "n = int(input(\"Enter a number: \"))\n",
    "fibonacci(n)"
   ]
  },
  {
   "cell_type": "code",
   "execution_count": 6,
   "metadata": {},
   "outputs": [
    {
     "name": "stdout",
     "output_type": "stream",
     "text": [
      "Your guess 50 is too low\n",
      "Your guess 75 is too low\n",
      "Your guess 90 is too high\n",
      "Your guess 90 is too high\n",
      "Your guess 80 is too high\n",
      "Your guess 78 is too high\n",
      "Your guess 76 is too low\n",
      "Your guess 76 is too low\n",
      "Your guess is correct\n"
     ]
    }
   ],
   "source": [
    "# Create a number guessing game. Where you have to generate a random number in between 1 to 100 and user have to prompt a number for guess. if its high or low number let the user know and guide them through the process to guess correct number.\n",
    "\n",
    "import random\n",
    "\n",
    "def guess(n):\n",
    "    number = random.randint(1, 100)\n",
    "    while n != number:\n",
    "        if n < number:\n",
    "            print(f\"Your guess {n} is too low\")\n",
    "            n = int(input(\"Enter a number: \"))\n",
    "        elif n > number:\n",
    "            print(f\"Your guess {n} is too high\")\n",
    "            n = int(input(\"Enter a number: \"))\n",
    "    print(\"Your guess is correct\")\n",
    "\n",
    "n = int(input(\"Enter a number: \"))\n",
    "guess(n)"
   ]
  }
 ],
 "metadata": {
  "kernelspec": {
   "display_name": "Python 3",
   "language": "python",
   "name": "python3"
  },
  "language_info": {
   "codemirror_mode": {
    "name": "ipython",
    "version": 3
   },
   "file_extension": ".py",
   "mimetype": "text/x-python",
   "name": "python",
   "nbconvert_exporter": "python",
   "pygments_lexer": "ipython3",
   "version": "3.11.6"
  }
 },
 "nbformat": 4,
 "nbformat_minor": 2
}
